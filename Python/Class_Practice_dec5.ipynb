{
 "cells": [
  {
   "cell_type": "code",
   "execution_count": 1,
   "id": "e25ebb00",
   "metadata": {},
   "outputs": [],
   "source": [
    "d=\"nik\""
   ]
  },
  {
   "cell_type": "code",
   "execution_count": 2,
   "id": "dbbd1177",
   "metadata": {},
   "outputs": [
    {
     "data": {
      "text/plain": [
       "str"
      ]
     },
     "execution_count": 2,
     "metadata": {},
     "output_type": "execute_result"
    }
   ],
   "source": [
    "type(d)"
   ]
  },
  {
   "cell_type": "code",
   "execution_count": 3,
   "id": "cb680326",
   "metadata": {},
   "outputs": [
    {
     "data": {
      "text/plain": [
       "'n'"
      ]
     },
     "execution_count": 3,
     "metadata": {},
     "output_type": "execute_result"
    }
   ],
   "source": [
    "d[-3]"
   ]
  },
  {
   "cell_type": "code",
   "execution_count": 4,
   "id": "2aa27214",
   "metadata": {},
   "outputs": [
    {
     "ename": "IndexError",
     "evalue": "string index out of range",
     "output_type": "error",
     "traceback": [
      "\u001b[1;31m---------------------------------------------------------------------------\u001b[0m",
      "\u001b[1;31mIndexError\u001b[0m                                Traceback (most recent call last)",
      "\u001b[1;32m~\\AppData\\Local\\Temp/ipykernel_13644/1526156462.py\u001b[0m in \u001b[0;36m<module>\u001b[1;34m\u001b[0m\n\u001b[1;32m----> 1\u001b[1;33m \u001b[0md\u001b[0m\u001b[1;33m[\u001b[0m\u001b[1;36m100\u001b[0m\u001b[1;33m]\u001b[0m\u001b[1;33m\u001b[0m\u001b[1;33m\u001b[0m\u001b[0m\n\u001b[0m",
      "\u001b[1;31mIndexError\u001b[0m: string index out of range"
     ]
    }
   ],
   "source": [
    "d[100]"
   ]
  },
  {
   "cell_type": "code",
   "execution_count": 5,
   "id": "9134cb95",
   "metadata": {},
   "outputs": [],
   "source": [
    "a=\"Hi this is this and that is that\""
   ]
  },
  {
   "cell_type": "code",
   "execution_count": 6,
   "id": "4bb3f1e6",
   "metadata": {},
   "outputs": [
    {
     "data": {
      "text/plain": [
       "'Hi this is'"
      ]
     },
     "execution_count": 6,
     "metadata": {},
     "output_type": "execute_result"
    }
   ],
   "source": [
    "a[0:10]"
   ]
  },
  {
   "cell_type": "code",
   "execution_count": 7,
   "id": "30ee7880",
   "metadata": {},
   "outputs": [
    {
     "data": {
      "text/plain": [
       "'Hi this is this and that is that'"
      ]
     },
     "execution_count": 7,
     "metadata": {},
     "output_type": "execute_result"
    }
   ],
   "source": [
    "a[0:200]"
   ]
  },
  {
   "cell_type": "code",
   "execution_count": 8,
   "id": "5b7cb5bf",
   "metadata": {},
   "outputs": [
    {
     "data": {
      "text/plain": [
       "''"
      ]
     },
     "execution_count": 8,
     "metadata": {},
     "output_type": "execute_result"
    }
   ],
   "source": [
    "a[-1:-14]"
   ]
  },
  {
   "cell_type": "code",
   "execution_count": 9,
   "id": "94ec9b65",
   "metadata": {},
   "outputs": [],
   "source": [
    "b=\"kumar\""
   ]
  },
  {
   "cell_type": "code",
   "execution_count": 13,
   "id": "b17a6c14",
   "metadata": {},
   "outputs": [
    {
     "data": {
      "text/plain": [
       "''"
      ]
     },
     "execution_count": 13,
     "metadata": {},
     "output_type": "execute_result"
    }
   ],
   "source": [
    "b[0:300:-1]"
   ]
  },
  {
   "cell_type": "code",
   "execution_count": 18,
   "id": "94ad5285",
   "metadata": {},
   "outputs": [
    {
     "data": {
      "text/plain": [
       "''"
      ]
     },
     "execution_count": 18,
     "metadata": {},
     "output_type": "execute_result"
    }
   ],
   "source": [
    "b[0:-4:-1]"
   ]
  },
  {
   "cell_type": "code",
   "execution_count": 19,
   "id": "774aa551",
   "metadata": {},
   "outputs": [
    {
     "data": {
      "text/plain": [
       "''"
      ]
     },
     "execution_count": 19,
     "metadata": {},
     "output_type": "execute_result"
    }
   ],
   "source": [
    "a[-10:10]"
   ]
  },
  {
   "cell_type": "code",
   "execution_count": 20,
   "id": "901b02e9",
   "metadata": {},
   "outputs": [
    {
     "data": {
      "text/plain": [
       "'aht dna siht'"
      ]
     },
     "execution_count": 20,
     "metadata": {},
     "output_type": "execute_result"
    }
   ],
   "source": [
    "a[-10:10:-1]"
   ]
  },
  {
   "cell_type": "code",
   "execution_count": 21,
   "id": "3a80e8e1",
   "metadata": {},
   "outputs": [
    {
     "data": {
      "text/plain": [
       "'shitshitshit'"
      ]
     },
     "execution_count": 21,
     "metadata": {},
     "output_type": "execute_result"
    }
   ],
   "source": [
    "\"shit\"*3"
   ]
  },
  {
   "cell_type": "code",
   "execution_count": 22,
   "id": "008d19cf",
   "metadata": {},
   "outputs": [
    {
     "data": {
      "text/plain": [
       "'bullshit'"
      ]
     },
     "execution_count": 22,
     "metadata": {},
     "output_type": "execute_result"
    }
   ],
   "source": [
    "\"bull\" + \"shit\""
   ]
  },
  {
   "cell_type": "code",
   "execution_count": 23,
   "id": "ffeaccf6",
   "metadata": {},
   "outputs": [
    {
     "data": {
      "text/plain": [
       "'bull shit'"
      ]
     },
     "execution_count": 23,
     "metadata": {},
     "output_type": "execute_result"
    }
   ],
   "source": [
    "\"bull\" + ' shit'"
   ]
  },
  {
   "cell_type": "code",
   "execution_count": 24,
   "id": "dd877368",
   "metadata": {},
   "outputs": [
    {
     "data": {
      "text/plain": [
       "32"
      ]
     },
     "execution_count": 24,
     "metadata": {},
     "output_type": "execute_result"
    }
   ],
   "source": [
    "len(a)"
   ]
  },
  {
   "cell_type": "code",
   "execution_count": 25,
   "id": "be97637c",
   "metadata": {},
   "outputs": [
    {
     "data": {
      "text/plain": [
       "480.0"
      ]
     },
     "execution_count": 25,
     "metadata": {},
     "output_type": "execute_result"
    }
   ],
   "source": [
    "len(a)/2*30\n"
   ]
  },
  {
   "cell_type": "code",
   "execution_count": 27,
   "id": "58e95c4b",
   "metadata": {},
   "outputs": [
    {
     "data": {
      "text/plain": [
       "'Hi this is this and that is that'"
      ]
     },
     "execution_count": 27,
     "metadata": {},
     "output_type": "execute_result"
    }
   ],
   "source": [
    "a"
   ]
  },
  {
   "cell_type": "code",
   "execution_count": 28,
   "id": "46e9b0fe",
   "metadata": {},
   "outputs": [
    {
     "data": {
      "text/plain": [
       "16"
      ]
     },
     "execution_count": 28,
     "metadata": {},
     "output_type": "execute_result"
    }
   ],
   "source": [
    "a.find(\"a\")"
   ]
  },
  {
   "cell_type": "code",
   "execution_count": null,
   "id": "c581b106",
   "metadata": {},
   "outputs": [],
   "source": []
  },
  {
   "cell_type": "code",
   "execution_count": 37,
   "id": "6753a4f6",
   "metadata": {},
   "outputs": [
    {
     "data": {
      "text/plain": [
       "5"
      ]
     },
     "execution_count": 37,
     "metadata": {},
     "output_type": "execute_result"
    }
   ],
   "source": [
    "a.count('i')"
   ]
  },
  {
   "cell_type": "code",
   "execution_count": 45,
   "id": "26e61c52",
   "metadata": {},
   "outputs": [],
   "source": [
    "l=a.split()"
   ]
  },
  {
   "cell_type": "code",
   "execution_count": 43,
   "id": "8b265e7c",
   "metadata": {},
   "outputs": [
    {
     "data": {
      "text/plain": [
       "['Hi', 'this', 'is', 'this', 'and', 'that', 'is', 'that']"
      ]
     },
     "execution_count": 43,
     "metadata": {},
     "output_type": "execute_result"
    }
   ],
   "source": [
    "l"
   ]
  },
  {
   "cell_type": "code",
   "execution_count": 44,
   "id": "64d2e9bb",
   "metadata": {},
   "outputs": [],
   "source": [
    "a=\"I am working with ineuron\""
   ]
  },
  {
   "cell_type": "code",
   "execution_count": 46,
   "id": "64171cb1",
   "metadata": {},
   "outputs": [],
   "source": [
    "l=a.split()"
   ]
  },
  {
   "cell_type": "code",
   "execution_count": 47,
   "id": "8aca9977",
   "metadata": {},
   "outputs": [
    {
     "data": {
      "text/plain": [
       "['I', 'am', 'working']"
      ]
     },
     "execution_count": 47,
     "metadata": {},
     "output_type": "execute_result"
    }
   ],
   "source": [
    "l[0:3]"
   ]
  },
  {
   "cell_type": "code",
   "execution_count": 50,
   "id": "928b3d12",
   "metadata": {},
   "outputs": [
    {
     "data": {
      "text/plain": [
       "['I am ', 'orking ', 'ith ineuron']"
      ]
     },
     "execution_count": 50,
     "metadata": {},
     "output_type": "execute_result"
    }
   ],
   "source": [
    "a.split('w')"
   ]
  },
  {
   "cell_type": "code",
   "execution_count": 51,
   "id": "754346b2",
   "metadata": {},
   "outputs": [
    {
     "data": {
      "text/plain": [
       "'I AM WORKING WITH INEURON'"
      ]
     },
     "execution_count": 51,
     "metadata": {},
     "output_type": "execute_result"
    }
   ],
   "source": [
    "a.upper()"
   ]
  },
  {
   "cell_type": "code",
   "execution_count": 53,
   "id": "447d85f7",
   "metadata": {},
   "outputs": [
    {
     "data": {
      "text/plain": [
       "'i am working with ineuron'"
      ]
     },
     "execution_count": 53,
     "metadata": {},
     "output_type": "execute_result"
    }
   ],
   "source": [
    "a.lower()"
   ]
  },
  {
   "cell_type": "code",
   "execution_count": 54,
   "id": "1e43ec3b",
   "metadata": {},
   "outputs": [
    {
     "data": {
      "text/plain": [
       "'i AM WORKING WITH INEURON'"
      ]
     },
     "execution_count": 54,
     "metadata": {},
     "output_type": "execute_result"
    }
   ],
   "source": [
    "a.swapcase()"
   ]
  },
  {
   "cell_type": "code",
   "execution_count": 55,
   "id": "ddac246f",
   "metadata": {},
   "outputs": [
    {
     "data": {
      "text/plain": [
       "'I Am Working With Ineuron'"
      ]
     },
     "execution_count": 55,
     "metadata": {},
     "output_type": "execute_result"
    }
   ],
   "source": [
    "a.title()"
   ]
  },
  {
   "cell_type": "code",
   "execution_count": 56,
   "id": "c2fbce1a",
   "metadata": {},
   "outputs": [
    {
     "data": {
      "text/plain": [
       "'I am working with ineuron'"
      ]
     },
     "execution_count": 56,
     "metadata": {},
     "output_type": "execute_result"
    }
   ],
   "source": [
    "a.capitalize()"
   ]
  },
  {
   "cell_type": "code",
   "execution_count": 58,
   "id": "ac12e748",
   "metadata": {},
   "outputs": [
    {
     "data": {
      "text/plain": [
       "'LIoIvIe'"
      ]
     },
     "execution_count": 58,
     "metadata": {},
     "output_type": "execute_result"
    }
   ],
   "source": [
    "x=\"I\"\n",
    "y=\"Love\"\n",
    "z=\"You\"\n",
    "x.join(y)"
   ]
  },
  {
   "cell_type": "code",
   "execution_count": 59,
   "id": "dfeacf4f",
   "metadata": {},
   "outputs": [
    {
     "data": {
      "text/plain": [
       "'L o v e'"
      ]
     },
     "execution_count": 59,
     "metadata": {},
     "output_type": "execute_result"
    }
   ],
   "source": [
    "\" \".join(y)"
   ]
  },
  {
   "cell_type": "code",
   "execution_count": 62,
   "id": "26067b9c",
   "metadata": {},
   "outputs": [
    {
     "name": "stdout",
     "output_type": "stream",
     "text": [
      "<reversed object at 0x000001A98270CD90>\n"
     ]
    }
   ],
   "source": [
    "print(reversed(a))"
   ]
  },
  {
   "cell_type": "code",
   "execution_count": 64,
   "id": "bfba2252",
   "metadata": {},
   "outputs": [],
   "source": [
    "x=reversed(a)"
   ]
  },
  {
   "cell_type": "code",
   "execution_count": 66,
   "id": "b92f2023",
   "metadata": {},
   "outputs": [
    {
     "data": {
      "text/plain": [
       "'I am 134orking 134ith ineuron'"
      ]
     },
     "execution_count": 66,
     "metadata": {},
     "output_type": "execute_result"
    }
   ],
   "source": [
    "a.replace(\"w\",\"134\")"
   ]
  },
  {
   "cell_type": "code",
   "execution_count": 67,
   "id": "6ee818f8",
   "metadata": {},
   "outputs": [
    {
     "data": {
      "text/plain": [
       "'I am working with ineuron'"
      ]
     },
     "execution_count": 67,
     "metadata": {},
     "output_type": "execute_result"
    }
   ],
   "source": [
    "a"
   ]
  },
  {
   "cell_type": "code",
   "execution_count": 69,
   "id": "2803a134",
   "metadata": {},
   "outputs": [
    {
     "data": {
      "text/plain": [
       "'I am working with ineuron'"
      ]
     },
     "execution_count": 69,
     "metadata": {},
     "output_type": "execute_result"
    }
   ],
   "source": [
    "a.expandtabs()"
   ]
  },
  {
   "cell_type": "code",
   "execution_count": 79,
   "id": "879ee8a8",
   "metadata": {},
   "outputs": [],
   "source": [
    "s=\"SUDH\""
   ]
  },
  {
   "cell_type": "code",
   "execution_count": 71,
   "id": "e7f56f64",
   "metadata": {},
   "outputs": [
    {
     "data": {
      "text/plain": [
       "'ttttttttttttttttttsudhtttttttttttttttttt'"
      ]
     },
     "execution_count": 71,
     "metadata": {},
     "output_type": "execute_result"
    }
   ],
   "source": [
    "s.center(40,'t')"
   ]
  },
  {
   "cell_type": "code",
   "execution_count": 80,
   "id": "749f90c5",
   "metadata": {},
   "outputs": [
    {
     "data": {
      "text/plain": [
       "True"
      ]
     },
     "execution_count": 80,
     "metadata": {},
     "output_type": "execute_result"
    }
   ],
   "source": [
    "s.isupper()"
   ]
  },
  {
   "cell_type": "code",
   "execution_count": 88,
   "id": "9dd0725c",
   "metadata": {},
   "outputs": [],
   "source": [
    "x=\"122144\""
   ]
  },
  {
   "cell_type": "code",
   "execution_count": 89,
   "id": "bb95ce01",
   "metadata": {},
   "outputs": [
    {
     "data": {
      "text/plain": [
       "True"
      ]
     },
     "execution_count": 89,
     "metadata": {},
     "output_type": "execute_result"
    }
   ],
   "source": [
    "x.isdigit()"
   ]
  },
  {
   "cell_type": "code",
   "execution_count": 91,
   "id": "8fde7ab1",
   "metadata": {},
   "outputs": [
    {
     "data": {
      "text/plain": [
       "True"
      ]
     },
     "execution_count": 91,
     "metadata": {},
     "output_type": "execute_result"
    }
   ],
   "source": [
    "s.endswith(\"H\")"
   ]
  },
  {
   "cell_type": "code",
   "execution_count": 93,
   "id": "cce06d7a",
   "metadata": {},
   "outputs": [
    {
     "data": {
      "text/plain": [
       "True"
      ]
     },
     "execution_count": 93,
     "metadata": {},
     "output_type": "execute_result"
    }
   ],
   "source": [
    "s.startswith(\"S\")"
   ]
  },
  {
   "cell_type": "code",
   "execution_count": 96,
   "id": "668a308d",
   "metadata": {},
   "outputs": [
    {
     "data": {
      "text/plain": [
       "False"
      ]
     },
     "execution_count": 96,
     "metadata": {},
     "output_type": "execute_result"
    }
   ],
   "source": [
    "s.istitle()"
   ]
  },
  {
   "cell_type": "code",
   "execution_count": 99,
   "id": "c15cdc6b",
   "metadata": {},
   "outputs": [],
   "source": [
    "l=[\"Sudh\",\"kumar\",4334,5+8j,False,350.540]"
   ]
  },
  {
   "cell_type": "code",
   "execution_count": 100,
   "id": "52ca0e65",
   "metadata": {},
   "outputs": [
    {
     "data": {
      "text/plain": [
       "list"
      ]
     },
     "execution_count": 100,
     "metadata": {},
     "output_type": "execute_result"
    }
   ],
   "source": [
    "type(l)"
   ]
  },
  {
   "cell_type": "code",
   "execution_count": 106,
   "id": "e65b9725",
   "metadata": {},
   "outputs": [
    {
     "data": {
      "text/plain": [
       "[350.54]"
      ]
     },
     "execution_count": 106,
     "metadata": {},
     "output_type": "execute_result"
    }
   ],
   "source": [
    "l[-1:6]"
   ]
  },
  {
   "cell_type": "code",
   "execution_count": 117,
   "id": "279bb02b",
   "metadata": {},
   "outputs": [
    {
     "data": {
      "text/plain": [
       "8.0"
      ]
     },
     "execution_count": 117,
     "metadata": {},
     "output_type": "execute_result"
    }
   ],
   "source": [
    "l[3].imag"
   ]
  },
  {
   "cell_type": "code",
   "execution_count": 116,
   "id": "f1b67988",
   "metadata": {},
   "outputs": [
    {
     "data": {
      "text/plain": [
       "0j"
      ]
     },
     "execution_count": 116,
     "metadata": {},
     "output_type": "execute_result"
    }
   ],
   "source": [
    "complex()"
   ]
  },
  {
   "cell_type": "code",
   "execution_count": 120,
   "id": "6c2b53bc",
   "metadata": {},
   "outputs": [
    {
     "data": {
      "text/plain": [
       "['Sudh', 'kummu', 3252, 'sfldkjl', 'hdzhzl', 450]"
      ]
     },
     "execution_count": 120,
     "metadata": {},
     "output_type": "execute_result"
    }
   ],
   "source": [
    "l1=[\"Sudh\",\"kummu\",3252]\n",
    "l2=[\"sfldkjl\",\"hdzhzl\",450]\n",
    "l1+l2"
   ]
  },
  {
   "cell_type": "code",
   "execution_count": 124,
   "id": "98c83c31",
   "metadata": {},
   "outputs": [
    {
     "data": {
      "text/plain": [
       "['Sudh', 'kummu', 3252, 'Sudh', 'kummu', 3252]"
      ]
     },
     "execution_count": 124,
     "metadata": {},
     "output_type": "execute_result"
    }
   ],
   "source": [
    "l1*2"
   ]
  },
  {
   "cell_type": "code",
   "execution_count": 127,
   "id": "a2e29edb",
   "metadata": {},
   "outputs": [],
   "source": [
    "l1[0]=\"Nikhil\""
   ]
  },
  {
   "cell_type": "code",
   "execution_count": 128,
   "id": "de4a6d8f",
   "metadata": {},
   "outputs": [
    {
     "data": {
      "text/plain": [
       "['Nikhil', 'kummu', 3252]"
      ]
     },
     "execution_count": 128,
     "metadata": {},
     "output_type": "execute_result"
    }
   ],
   "source": [
    "l1"
   ]
  },
  {
   "cell_type": "code",
   "execution_count": 129,
   "id": "45bbfaa7",
   "metadata": {},
   "outputs": [
    {
     "data": {
      "text/plain": [
       "'I am working with ineuron'"
      ]
     },
     "execution_count": 129,
     "metadata": {},
     "output_type": "execute_result"
    }
   ],
   "source": [
    "a"
   ]
  },
  {
   "cell_type": "code",
   "execution_count": 132,
   "id": "1963dd38",
   "metadata": {},
   "outputs": [
    {
     "ename": "TypeError",
     "evalue": "'str' object does not support item assignment",
     "output_type": "error",
     "traceback": [
      "\u001b[1;31m---------------------------------------------------------------------------\u001b[0m",
      "\u001b[1;31mTypeError\u001b[0m                                 Traceback (most recent call last)",
      "\u001b[1;32m~\\AppData\\Local\\Temp/ipykernel_13644/431245385.py\u001b[0m in \u001b[0;36m<module>\u001b[1;34m\u001b[0m\n\u001b[1;32m----> 1\u001b[1;33m \u001b[0ml1\u001b[0m\u001b[1;33m[\u001b[0m\u001b[1;36m1\u001b[0m\u001b[1;33m]\u001b[0m\u001b[1;33m[\u001b[0m\u001b[1;36m0\u001b[0m\u001b[1;33m]\u001b[0m\u001b[1;33m=\u001b[0m\u001b[1;34m\"s\"\u001b[0m\u001b[1;33m\u001b[0m\u001b[1;33m\u001b[0m\u001b[0m\n\u001b[0m",
      "\u001b[1;31mTypeError\u001b[0m: 'str' object does not support item assignment"
     ]
    }
   ],
   "source": [
    "l1[1][0]=\"s\""
   ]
  },
  {
   "cell_type": "code",
   "execution_count": 135,
   "id": "86a02cf3",
   "metadata": {},
   "outputs": [],
   "source": [
    "l1.append(\"Soma\")"
   ]
  },
  {
   "cell_type": "code",
   "execution_count": 139,
   "id": "08a18339",
   "metadata": {},
   "outputs": [
    {
     "data": {
      "text/plain": [
       "'Soma'"
      ]
     },
     "execution_count": 139,
     "metadata": {},
     "output_type": "execute_result"
    }
   ],
   "source": [
    "l1.pop(3)"
   ]
  },
  {
   "cell_type": "code",
   "execution_count": 140,
   "id": "4c7fdcdd",
   "metadata": {},
   "outputs": [
    {
     "data": {
      "text/plain": [
       "['Nikhil', 'kummu', 3252]"
      ]
     },
     "execution_count": 140,
     "metadata": {},
     "output_type": "execute_result"
    }
   ],
   "source": [
    "l1"
   ]
  },
  {
   "cell_type": "code",
   "execution_count": 141,
   "id": "6571e3ec",
   "metadata": {},
   "outputs": [],
   "source": [
    "l1.insert(1,\"john\")"
   ]
  },
  {
   "cell_type": "code",
   "execution_count": 142,
   "id": "87fc8d35",
   "metadata": {},
   "outputs": [
    {
     "data": {
      "text/plain": [
       "['Nikhil', 'john', 'kummu', 3252]"
      ]
     },
     "execution_count": 142,
     "metadata": {},
     "output_type": "execute_result"
    }
   ],
   "source": [
    "l1"
   ]
  },
  {
   "cell_type": "code",
   "execution_count": 143,
   "id": "6b1b05e6",
   "metadata": {},
   "outputs": [],
   "source": [
    "l1.reverse()"
   ]
  },
  {
   "cell_type": "code",
   "execution_count": 144,
   "id": "ff264962",
   "metadata": {},
   "outputs": [
    {
     "data": {
      "text/plain": [
       "[3252, 'kummu', 'john', 'Nikhil']"
      ]
     },
     "execution_count": 144,
     "metadata": {},
     "output_type": "execute_result"
    }
   ],
   "source": [
    "l1"
   ]
  },
  {
   "cell_type": "code",
   "execution_count": 145,
   "id": "78c49218",
   "metadata": {},
   "outputs": [],
   "source": [
    "l1.append(l2)"
   ]
  },
  {
   "cell_type": "code",
   "execution_count": 146,
   "id": "eca13c32",
   "metadata": {},
   "outputs": [
    {
     "data": {
      "text/plain": [
       "[3252, 'kummu', 'john', 'Nikhil', ['sfldkjl', 'hdzhzl', 450]]"
      ]
     },
     "execution_count": 146,
     "metadata": {},
     "output_type": "execute_result"
    }
   ],
   "source": [
    "l1"
   ]
  },
  {
   "cell_type": "code",
   "execution_count": 147,
   "id": "af4327c5",
   "metadata": {},
   "outputs": [],
   "source": [
    "l1.extend(l2)"
   ]
  },
  {
   "cell_type": "code",
   "execution_count": 148,
   "id": "71544953",
   "metadata": {},
   "outputs": [
    {
     "data": {
      "text/plain": [
       "[3252,\n",
       " 'kummu',\n",
       " 'john',\n",
       " 'Nikhil',\n",
       " ['sfldkjl', 'hdzhzl', 450],\n",
       " 'sfldkjl',\n",
       " 'hdzhzl',\n",
       " 450]"
      ]
     },
     "execution_count": 148,
     "metadata": {},
     "output_type": "execute_result"
    }
   ],
   "source": [
    "l1"
   ]
  },
  {
   "cell_type": "code",
   "execution_count": null,
   "id": "f36a1375",
   "metadata": {},
   "outputs": [],
   "source": []
  }
 ],
 "metadata": {
  "kernelspec": {
   "display_name": "Python 3 (ipykernel)",
   "language": "python",
   "name": "python3"
  },
  "language_info": {
   "codemirror_mode": {
    "name": "ipython",
    "version": 3
   },
   "file_extension": ".py",
   "mimetype": "text/x-python",
   "name": "python",
   "nbconvert_exporter": "python",
   "pygments_lexer": "ipython3",
   "version": "3.9.7"
  }
 },
 "nbformat": 4,
 "nbformat_minor": 5
}
