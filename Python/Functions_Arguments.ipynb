{
 "cells": [
  {
   "cell_type": "code",
   "execution_count": 5,
   "id": "d8af95ac",
   "metadata": {},
   "outputs": [
    {
     "name": "stdout",
     "output_type": "stream",
     "text": [
      "Hello Preethi, Good morning!\n"
     ]
    }
   ],
   "source": [
    "\"\"\" User define function Ex\"\"\"\n",
    "\n",
    "def greet(name, msg):\n",
    "    \"\"\"This function greets to\n",
    "    the person with the provided message\"\"\"\n",
    "    \n",
    "    print(\"Hello\", name + ', ' + msg)\n",
    "\n",
    "greet(\"Preethi\", \"Good morning!\")\n",
    "#greet(\"Preethi\")"
   ]
  },
  {
   "cell_type": "code",
   "execution_count": null,
   "id": "760adfcd",
   "metadata": {},
   "outputs": [],
   "source": [
    "\"\"\"Python Default Arguments\n",
    "Function arguments can have default values in Python.\"\"\"\n",
    "\n",
    "def greet(name,msg=\"Po re yeddi\"):\n",
    "    \"\"\"This is to pass default vaues to the arguments\"\"\"\n",
    "    \n"
   ]
  },
  {
   "cell_type": "code",
   "execution_count": null,
   "id": "c8239e95",
   "metadata": {},
   "outputs": [],
   "source": []
  },
  {
   "cell_type": "code",
   "execution_count": null,
   "id": "3bef70a2",
   "metadata": {},
   "outputs": [],
   "source": []
  },
  {
   "cell_type": "code",
   "execution_count": null,
   "id": "ea1fb409",
   "metadata": {},
   "outputs": [],
   "source": []
  },
  {
   "cell_type": "code",
   "execution_count": null,
   "id": "73ab646a",
   "metadata": {},
   "outputs": [],
   "source": []
  }
 ],
 "metadata": {
  "kernelspec": {
   "display_name": "Python 3 (ipykernel)",
   "language": "python",
   "name": "python3"
  },
  "language_info": {
   "codemirror_mode": {
    "name": "ipython",
    "version": 3
   },
   "file_extension": ".py",
   "mimetype": "text/x-python",
   "name": "python",
   "nbconvert_exporter": "python",
   "pygments_lexer": "ipython3",
   "version": "3.9.7"
  }
 },
 "nbformat": 4,
 "nbformat_minor": 5
}
