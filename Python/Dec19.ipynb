{
 "cells": [
  {
   "cell_type": "code",
   "execution_count": 1,
   "id": "cca24473",
   "metadata": {},
   "outputs": [],
   "source": [
    "a=10"
   ]
  },
  {
   "cell_type": "code",
   "execution_count": 5,
   "id": "37d26306",
   "metadata": {},
   "outputs": [
    {
     "ename": "SyntaxError",
     "evalue": "invalid syntax (Temp/ipykernel_3492/85620847.py, line 1)",
     "output_type": "error",
     "traceback": [
      "\u001b[1;36m  File \u001b[1;32m\"C:\\Users\\ACER\\AppData\\Local\\Temp/ipykernel_3492/85620847.py\"\u001b[1;36m, line \u001b[1;32m1\u001b[0m\n\u001b[1;33m    if a<18\u001b[0m\n\u001b[1;37m           ^\u001b[0m\n\u001b[1;31mSyntaxError\u001b[0m\u001b[1;31m:\u001b[0m invalid syntax\n"
     ]
    }
   ],
   "source": [
    "if a<18"
   ]
  },
  {
   "cell_type": "code",
   "execution_count": 8,
   "id": "24a12fd7",
   "metadata": {},
   "outputs": [
    {
     "data": {
      "text/plain": [
       "True"
      ]
     },
     "execution_count": 8,
     "metadata": {},
     "output_type": "execute_result"
    }
   ],
   "source": [
    "a<18"
   ]
  },
  {
   "cell_type": "code",
   "execution_count": 9,
   "id": "5b263db8",
   "metadata": {},
   "outputs": [
    {
     "ename": "IndentationError",
     "evalue": "expected an indented block (Temp/ipykernel_3492/3011366219.py, line 1)",
     "output_type": "error",
     "traceback": [
      "\u001b[1;36m  File \u001b[1;32m\"C:\\Users\\ACER\\AppData\\Local\\Temp/ipykernel_3492/3011366219.py\"\u001b[1;36m, line \u001b[1;32m1\u001b[0m\n\u001b[1;33m    if a<18:\u001b[0m\n\u001b[1;37m            ^\u001b[0m\n\u001b[1;31mIndentationError\u001b[0m\u001b[1;31m:\u001b[0m expected an indented block\n"
     ]
    }
   ],
   "source": [
    "if a<18:"
   ]
  },
  {
   "cell_type": "code",
   "execution_count": 13,
   "id": "75e72ab6",
   "metadata": {},
   "outputs": [],
   "source": [
    "if a<12:\n",
    "    pass"
   ]
  },
  {
   "cell_type": "code",
   "execution_count": null,
   "id": "cb9f2de2",
   "metadata": {},
   "outputs": [],
   "source": []
  },
  {
   "cell_type": "code",
   "execution_count": 15,
   "id": "c7eabadb",
   "metadata": {},
   "outputs": [
    {
     "name": "stdout",
     "output_type": "stream",
     "text": [
      "OO antava mama Oo Oo Antava\n"
     ]
    }
   ],
   "source": [
    "if a<15 : \n",
    "    \n",
    "    print(\"OO antava mama Oo Oo Antava\")"
   ]
  },
  {
   "cell_type": "code",
   "execution_count": 16,
   "id": "ecb88471",
   "metadata": {},
   "outputs": [],
   "source": [
    "if 24<15:\n",
    "    print(\"Thaggedey le\")"
   ]
  },
  {
   "cell_type": "code",
   "execution_count": 21,
   "id": "115a2b19",
   "metadata": {},
   "outputs": [
    {
     "name": "stdout",
     "output_type": "stream",
     "text": [
      "Thaggedey le\n"
     ]
    }
   ],
   "source": [
    "if 24<15:\n",
    "    print(\"Po ra Thai\")\n",
    "else :\n",
    "    print(\"Thaggedey le\")"
   ]
  },
  {
   "cell_type": "code",
   "execution_count": 25,
   "id": "a056549c",
   "metadata": {},
   "outputs": [
    {
     "name": "stdout",
     "output_type": "stream",
     "text": [
      "Please Enter your Income : \n",
      "190\n",
      "I can buy Anything\n"
     ]
    }
   ],
   "source": [
    "print(\"Please Enter your Income : \")\n",
    "income=int(input())\n",
    "\n",
    "if income<50 :\n",
    "    print(\"I can buy the phone\")\n",
    "elif income<70 : \n",
    "    print(\"I can buy Car\")\n",
    "elif income<90 : \n",
    "    print(\"I can buy House\")\n",
    "else: \n",
    "    print(\"I can buy Anything\")    "
   ]
  },
  {
   "cell_type": "code",
   "execution_count": 31,
   "id": "ede15231",
   "metadata": {},
   "outputs": [
    {
     "name": "stdout",
     "output_type": "stream",
     "text": [
      "Please Enter the Total Price : \n",
      "546\n",
      "Discount will be :  109.2\n",
      "Discount will be :  218.4\n",
      "Discount will be :  245.70000000000002\n"
     ]
    }
   ],
   "source": [
    "print(\"Please Enter the Total Price : \")\n",
    "Total_Price=int(input())\n",
    "\n",
    "if Total_Price>50 :\n",
    "    Discount= Total_Price *.20\n",
    "    print(\"Discount will be : \", Discount)\n",
    "if Total_Price>70 : \n",
    "    Discount= Total_Price *.40\n",
    "    print(\"Discount will be : \", Discount)\n",
    "if Total_Price>90 : \n",
    "    Discount= Total_Price *.45\n",
    "    print(\"Discount will be : \", Discount)\n",
    "else: \n",
    "    print(\"I can buy Anything\")"
   ]
  },
  {
   "cell_type": "code",
   "execution_count": 32,
   "id": "80087335",
   "metadata": {},
   "outputs": [
    {
     "data": {
      "text/plain": [
       "True"
      ]
     },
     "execution_count": 32,
     "metadata": {},
     "output_type": "execute_result"
    }
   ],
   "source": [
    "\"sudh\" == \"sudh\""
   ]
  },
  {
   "cell_type": "code",
   "execution_count": 40,
   "id": "db6293c7",
   "metadata": {},
   "outputs": [
    {
     "name": "stdout",
     "output_type": "stream",
     "text": [
      "Please Enter the coupon code : \n",
      "Yuvi\n",
      "Invalid coupon\n"
     ]
    }
   ],
   "source": [
    "\n",
    "print(\"Please Enter the coupon code : \")\n",
    "coup=str(input())\n",
    "if coup==\"Nikhil\":\n",
    "    print(\"Your coup code is vaid upto worth 1234 INR\")\n",
    "    paid_amt=18000-1234\n",
    "    print(\"The final amount u need to pay is:\",paid_amt )\n",
    "else:   \n",
    "    print(\"Invalid coupon\")"
   ]
  },
  {
   "cell_type": "code",
   "execution_count": 41,
   "id": "a7f809d0",
   "metadata": {},
   "outputs": [
    {
     "name": "stdout",
     "output_type": "stream",
     "text": [
      "Please Enter the No of Study Hours : \n",
      "33\n",
      "U can't Do Anything\n"
     ]
    }
   ],
   "source": [
    "print(\"Please Enter the No of Study Hours : \")\n",
    "Study=int(input())\n",
    "\n",
    "if Study>50 and Study<70 :\n",
    "    print(\"you may get Succed\")\n",
    "elif Study>=70  : \n",
    "    Discount= Total_Price *.40\n",
    "    print(\"you will Succed\")\n",
    "else: \n",
    "    print(\"U can't Do Anything\")"
   ]
  },
  {
   "cell_type": "code",
   "execution_count": null,
   "id": "396debab",
   "metadata": {},
   "outputs": [],
   "source": [
    "s=input(\"Enter the String : \")\n",
    "course=input(\"Enter the course : \")\n",
    "service=input(\"Enter the service : \")\n",
    "if s==\"oneneuron\":\n",
    "    if course==\"DSA\":\n",
    "        print(\"Available. All the best\")\n",
    "    elif course==\"Blockchain\":\n",
    "        print(\"Not Available.Sorry, please try later\") \n",
    "    elif course==\"FSDS\":\n",
    "        print(\"Available.U can start learning\") \n",
    "    else:\n",
    "         print(\"Please get bac to us later\")\n",
    "elif s==\"oneneuron service\":\n",
    "        if service==\"DSA\":\n",
    "            print(\"Available. All the best\")\n",
    "        elif service==\"Blockchain\":\n",
    "            print(\"Not Available.Sorry, please try later\") \n",
    "        elif service==\"FSDS\":\n",
    "            print(\"Available.U can start learning\") \n",
    "        else:\n",
    "             print(\"Kindly connect with the team\")"
   ]
  },
  {
   "cell_type": "code",
   "execution_count": 47,
   "id": "80dc951c",
   "metadata": {},
   "outputs": [
    {
     "name": "stdout",
     "output_type": "stream",
     "text": [
      "1\n",
      "2\n",
      "3\n",
      "4\n",
      "5\n",
      "6\n",
      "7\n"
     ]
    }
   ],
   "source": [
    "l=[1,2,3,4,5,6,7]\n",
    "for i in l:\n",
    "    print(i)"
   ]
  },
  {
   "cell_type": "code",
   "execution_count": 48,
   "id": "71c2ca3e",
   "metadata": {},
   "outputs": [
    {
     "name": "stdout",
     "output_type": "stream",
     "text": [
      "N\n",
      "i\n",
      "k\n",
      "h\n",
      "i\n",
      "l\n"
     ]
    }
   ],
   "source": [
    "for i in \"Nikhil\":\n",
    "    print(i)"
   ]
  },
  {
   "cell_type": "code",
   "execution_count": 49,
   "id": "9c79bf72",
   "metadata": {},
   "outputs": [],
   "source": [
    "t=(1,2,3,4,5,6)"
   ]
  },
  {
   "cell_type": "code",
   "execution_count": 50,
   "id": "69cd3dc6",
   "metadata": {},
   "outputs": [
    {
     "name": "stdout",
     "output_type": "stream",
     "text": [
      "1\n",
      "2\n",
      "3\n",
      "4\n",
      "5\n",
      "6\n"
     ]
    }
   ],
   "source": [
    "for i in t:\n",
    "    print(i)"
   ]
  },
  {
   "cell_type": "code",
   "execution_count": 53,
   "id": "d60f1509",
   "metadata": {},
   "outputs": [
    {
     "name": "stdout",
     "output_type": "stream",
     "text": [
      "1 is of type  <class 'int'>\n",
      "4 is of type  <class 'int'>\n",
      "4.5 is of type  <class 'float'>\n",
      "(6+7j) is of type  <class 'complex'>\n",
      "Niki is of type  <class 'str'>\n"
     ]
    }
   ],
   "source": [
    "l=[1,4,4.5,6+7j,\"Niki\"]\n",
    "for i in l:\n",
    "    print(i, \"is of type \", type(i))"
   ]
  },
  {
   "cell_type": "code",
   "execution_count": 98,
   "id": "66d16a2d",
   "metadata": {},
   "outputs": [],
   "source": [
    "l=[2,45,12,\"Nikhil\",6+7j,[56,67,\"fss\"],\"Shakti\"]\n",
    "#Print index of all elements\n",
    "#Extract all list of char if ele is String\n",
    "#Return list of squqre of all the int\n"
   ]
  },
  {
   "cell_type": "code",
   "execution_count": null,
   "id": "2ec2317d",
   "metadata": {},
   "outputs": [],
   "source": []
  },
  {
   "cell_type": "code",
   "execution_count": null,
   "id": "627b05dd",
   "metadata": {},
   "outputs": [],
   "source": []
  },
  {
   "cell_type": "code",
   "execution_count": 61,
   "id": "3f91664a",
   "metadata": {},
   "outputs": [
    {
     "name": "stdout",
     "output_type": "stream",
     "text": [
      "Index  0  for an element  2\n",
      "Index  1  for an element  45\n",
      "Index  2  for an element  12\n",
      "Index  3  for an element  Nikhil\n",
      "Index  4  for an element  (6+7j)\n",
      "Index  5  for an element  [56, 67, 'fss']\n"
     ]
    }
   ],
   "source": [
    "\n",
    "for i in range(len(l)):\n",
    "    print(\"Index \",i, \" for an element \",l[i])"
   ]
  },
  {
   "cell_type": "code",
   "execution_count": 107,
   "id": "03f52508",
   "metadata": {},
   "outputs": [
    {
     "name": "stdout",
     "output_type": "stream",
     "text": [
      "Our Array is:  [2, 45, 12, 'Nikhil', (6+7j), [56, 67, 'fss'], 'Shakti']\n",
      "Below are the list of the Characters of String type of an array: \n",
      "['N', 'i', 'k', 'h', 'i', 'l']\n",
      "['S', 'h', 'a', 'k', 't', 'i']\n"
     ]
    }
   ],
   "source": [
    "print(\"Our Array is: \", l)\n",
    "print(\"Below are the list of the Characters of String type of an array: \")\n",
    "for j in l:\n",
    "    if(type(j))==str:\n",
    "        l1=[]\n",
    "        for k in j:             \n",
    "             l1.append(k)\n",
    "        print(l1)\n",
    "   \n",
    "               "
   ]
  },
  {
   "cell_type": "code",
   "execution_count": null,
   "id": "5a0ec471",
   "metadata": {},
   "outputs": [],
   "source": []
  },
  {
   "cell_type": "code",
   "execution_count": 106,
   "id": "46fa46a9",
   "metadata": {},
   "outputs": [
    {
     "name": "stdout",
     "output_type": "stream",
     "text": [
      "Our Array is:  [2, 45, 12, 'Nikhil', (6+7j), [56, 67, 'fss'], 'Shakti']\n",
      "Below are the list of the squares of integers of an array: \n",
      "[4]\n",
      "[2025]\n",
      "[144]\n"
     ]
    }
   ],
   "source": [
    "print(\"Our Array is: \", l)\n",
    "print(\"Below are the list of the squares of integers of an array: \")\n",
    "for j in l:\n",
    "    if(type(j))==int:\n",
    "        l1=[]            \n",
    "        l1.append(j*j)\n",
    "        print(l1)"
   ]
  },
  {
   "cell_type": "code",
   "execution_count": null,
   "id": "d9555509",
   "metadata": {},
   "outputs": [],
   "source": []
  },
  {
   "cell_type": "code",
   "execution_count": null,
   "id": "d451d478",
   "metadata": {},
   "outputs": [],
   "source": []
  },
  {
   "cell_type": "code",
   "execution_count": null,
   "id": "a1228321",
   "metadata": {},
   "outputs": [],
   "source": []
  },
  {
   "cell_type": "code",
   "execution_count": null,
   "id": "3756e657",
   "metadata": {},
   "outputs": [],
   "source": []
  },
  {
   "cell_type": "code",
   "execution_count": null,
   "id": "422bdca3",
   "metadata": {},
   "outputs": [],
   "source": []
  },
  {
   "cell_type": "code",
   "execution_count": null,
   "id": "e0d8c550",
   "metadata": {},
   "outputs": [],
   "source": []
  },
  {
   "cell_type": "code",
   "execution_count": null,
   "id": "32b8cbf3",
   "metadata": {},
   "outputs": [],
   "source": []
  },
  {
   "cell_type": "code",
   "execution_count": null,
   "id": "c526975e",
   "metadata": {},
   "outputs": [],
   "source": []
  },
  {
   "cell_type": "code",
   "execution_count": null,
   "id": "b2ee12c7",
   "metadata": {},
   "outputs": [],
   "source": []
  },
  {
   "cell_type": "code",
   "execution_count": null,
   "id": "3071ea4b",
   "metadata": {},
   "outputs": [],
   "source": []
  },
  {
   "cell_type": "code",
   "execution_count": null,
   "id": "5431b70b",
   "metadata": {},
   "outputs": [],
   "source": []
  },
  {
   "cell_type": "code",
   "execution_count": null,
   "id": "f0b53187",
   "metadata": {},
   "outputs": [],
   "source": []
  },
  {
   "cell_type": "code",
   "execution_count": null,
   "id": "18d31404",
   "metadata": {},
   "outputs": [],
   "source": []
  },
  {
   "cell_type": "code",
   "execution_count": null,
   "id": "b77f7237",
   "metadata": {},
   "outputs": [],
   "source": []
  },
  {
   "cell_type": "code",
   "execution_count": null,
   "id": "64485731",
   "metadata": {},
   "outputs": [],
   "source": []
  },
  {
   "cell_type": "code",
   "execution_count": null,
   "id": "3712014d",
   "metadata": {},
   "outputs": [],
   "source": []
  },
  {
   "cell_type": "code",
   "execution_count": null,
   "id": "bd7e1fdd",
   "metadata": {},
   "outputs": [],
   "source": []
  },
  {
   "cell_type": "code",
   "execution_count": null,
   "id": "93b04cbf",
   "metadata": {},
   "outputs": [],
   "source": []
  },
  {
   "cell_type": "code",
   "execution_count": null,
   "id": "9489415a",
   "metadata": {},
   "outputs": [],
   "source": []
  },
  {
   "cell_type": "code",
   "execution_count": null,
   "id": "755923bc",
   "metadata": {},
   "outputs": [],
   "source": []
  },
  {
   "cell_type": "code",
   "execution_count": null,
   "id": "3530e52a",
   "metadata": {},
   "outputs": [],
   "source": []
  },
  {
   "cell_type": "code",
   "execution_count": null,
   "id": "2e2730b8",
   "metadata": {},
   "outputs": [],
   "source": []
  },
  {
   "cell_type": "code",
   "execution_count": null,
   "id": "1c5018e2",
   "metadata": {},
   "outputs": [],
   "source": []
  },
  {
   "cell_type": "code",
   "execution_count": null,
   "id": "da4be724",
   "metadata": {},
   "outputs": [],
   "source": []
  },
  {
   "cell_type": "code",
   "execution_count": null,
   "id": "18aa5733",
   "metadata": {},
   "outputs": [],
   "source": []
  },
  {
   "cell_type": "code",
   "execution_count": null,
   "id": "ab7b30e5",
   "metadata": {},
   "outputs": [],
   "source": []
  },
  {
   "cell_type": "code",
   "execution_count": null,
   "id": "401b37b0",
   "metadata": {},
   "outputs": [],
   "source": []
  },
  {
   "cell_type": "code",
   "execution_count": null,
   "id": "2441abaa",
   "metadata": {},
   "outputs": [],
   "source": []
  },
  {
   "cell_type": "code",
   "execution_count": null,
   "id": "41628f6c",
   "metadata": {},
   "outputs": [],
   "source": []
  },
  {
   "cell_type": "code",
   "execution_count": null,
   "id": "f49a1965",
   "metadata": {},
   "outputs": [],
   "source": []
  },
  {
   "cell_type": "code",
   "execution_count": null,
   "id": "3e8a24ce",
   "metadata": {},
   "outputs": [],
   "source": []
  },
  {
   "cell_type": "code",
   "execution_count": null,
   "id": "671b42c4",
   "metadata": {},
   "outputs": [],
   "source": []
  },
  {
   "cell_type": "code",
   "execution_count": null,
   "id": "112b1c03",
   "metadata": {},
   "outputs": [],
   "source": []
  },
  {
   "cell_type": "code",
   "execution_count": null,
   "id": "13bafc2b",
   "metadata": {},
   "outputs": [],
   "source": []
  },
  {
   "cell_type": "code",
   "execution_count": null,
   "id": "1985a679",
   "metadata": {},
   "outputs": [],
   "source": []
  },
  {
   "cell_type": "code",
   "execution_count": null,
   "id": "1735841f",
   "metadata": {},
   "outputs": [],
   "source": []
  },
  {
   "cell_type": "code",
   "execution_count": null,
   "id": "ac3b6f3e",
   "metadata": {},
   "outputs": [],
   "source": []
  },
  {
   "cell_type": "code",
   "execution_count": null,
   "id": "8a40281f",
   "metadata": {},
   "outputs": [],
   "source": []
  },
  {
   "cell_type": "code",
   "execution_count": null,
   "id": "00733872",
   "metadata": {},
   "outputs": [],
   "source": []
  },
  {
   "cell_type": "code",
   "execution_count": null,
   "id": "2771a380",
   "metadata": {},
   "outputs": [],
   "source": []
  },
  {
   "cell_type": "code",
   "execution_count": null,
   "id": "ba8cf502",
   "metadata": {},
   "outputs": [],
   "source": []
  },
  {
   "cell_type": "code",
   "execution_count": null,
   "id": "263c1124",
   "metadata": {},
   "outputs": [],
   "source": []
  },
  {
   "cell_type": "code",
   "execution_count": null,
   "id": "e2198123",
   "metadata": {},
   "outputs": [],
   "source": []
  },
  {
   "cell_type": "code",
   "execution_count": null,
   "id": "e845b762",
   "metadata": {},
   "outputs": [],
   "source": []
  },
  {
   "cell_type": "code",
   "execution_count": null,
   "id": "92c80275",
   "metadata": {},
   "outputs": [],
   "source": []
  },
  {
   "cell_type": "code",
   "execution_count": null,
   "id": "62cde7a4",
   "metadata": {},
   "outputs": [],
   "source": []
  },
  {
   "cell_type": "code",
   "execution_count": null,
   "id": "55b475bd",
   "metadata": {},
   "outputs": [],
   "source": []
  },
  {
   "cell_type": "code",
   "execution_count": null,
   "id": "53926c0e",
   "metadata": {},
   "outputs": [],
   "source": []
  },
  {
   "cell_type": "code",
   "execution_count": null,
   "id": "fe831df0",
   "metadata": {},
   "outputs": [],
   "source": []
  },
  {
   "cell_type": "code",
   "execution_count": null,
   "id": "387172e6",
   "metadata": {},
   "outputs": [],
   "source": []
  },
  {
   "cell_type": "code",
   "execution_count": null,
   "id": "3c5626b1",
   "metadata": {},
   "outputs": [],
   "source": []
  },
  {
   "cell_type": "code",
   "execution_count": null,
   "id": "c19a40c1",
   "metadata": {},
   "outputs": [],
   "source": []
  },
  {
   "cell_type": "code",
   "execution_count": null,
   "id": "29f18f33",
   "metadata": {},
   "outputs": [],
   "source": []
  },
  {
   "cell_type": "code",
   "execution_count": null,
   "id": "2803ef3d",
   "metadata": {},
   "outputs": [],
   "source": []
  },
  {
   "cell_type": "code",
   "execution_count": null,
   "id": "05b636f9",
   "metadata": {},
   "outputs": [],
   "source": []
  },
  {
   "cell_type": "code",
   "execution_count": null,
   "id": "5d5faa3b",
   "metadata": {},
   "outputs": [],
   "source": []
  },
  {
   "cell_type": "code",
   "execution_count": null,
   "id": "e4ade967",
   "metadata": {},
   "outputs": [],
   "source": []
  },
  {
   "cell_type": "code",
   "execution_count": null,
   "id": "96ea7609",
   "metadata": {},
   "outputs": [],
   "source": []
  },
  {
   "cell_type": "code",
   "execution_count": null,
   "id": "9129c56a",
   "metadata": {},
   "outputs": [],
   "source": []
  },
  {
   "cell_type": "code",
   "execution_count": null,
   "id": "2cff920a",
   "metadata": {},
   "outputs": [],
   "source": []
  },
  {
   "cell_type": "code",
   "execution_count": null,
   "id": "3615a621",
   "metadata": {},
   "outputs": [],
   "source": []
  },
  {
   "cell_type": "code",
   "execution_count": null,
   "id": "aefb0bea",
   "metadata": {},
   "outputs": [],
   "source": []
  },
  {
   "cell_type": "code",
   "execution_count": null,
   "id": "266fec22",
   "metadata": {},
   "outputs": [],
   "source": []
  },
  {
   "cell_type": "code",
   "execution_count": null,
   "id": "da800005",
   "metadata": {},
   "outputs": [],
   "source": []
  },
  {
   "cell_type": "code",
   "execution_count": null,
   "id": "f2488bb8",
   "metadata": {},
   "outputs": [],
   "source": []
  },
  {
   "cell_type": "code",
   "execution_count": null,
   "id": "ce6fe9c6",
   "metadata": {},
   "outputs": [],
   "source": []
  },
  {
   "cell_type": "code",
   "execution_count": null,
   "id": "b58fe8fd",
   "metadata": {},
   "outputs": [],
   "source": []
  },
  {
   "cell_type": "code",
   "execution_count": null,
   "id": "bd0926e6",
   "metadata": {},
   "outputs": [],
   "source": []
  },
  {
   "cell_type": "code",
   "execution_count": null,
   "id": "a97fbd70",
   "metadata": {},
   "outputs": [],
   "source": []
  },
  {
   "cell_type": "code",
   "execution_count": null,
   "id": "f6606b54",
   "metadata": {},
   "outputs": [],
   "source": []
  },
  {
   "cell_type": "code",
   "execution_count": null,
   "id": "2dfe8853",
   "metadata": {},
   "outputs": [],
   "source": []
  },
  {
   "cell_type": "code",
   "execution_count": null,
   "id": "73d61f1a",
   "metadata": {},
   "outputs": [],
   "source": []
  },
  {
   "cell_type": "code",
   "execution_count": null,
   "id": "7300e36a",
   "metadata": {},
   "outputs": [],
   "source": []
  },
  {
   "cell_type": "code",
   "execution_count": null,
   "id": "39fd57d7",
   "metadata": {},
   "outputs": [],
   "source": []
  },
  {
   "cell_type": "code",
   "execution_count": null,
   "id": "f464cdc3",
   "metadata": {},
   "outputs": [],
   "source": []
  },
  {
   "cell_type": "code",
   "execution_count": null,
   "id": "c1fae5aa",
   "metadata": {},
   "outputs": [],
   "source": []
  }
 ],
 "metadata": {
  "kernelspec": {
   "display_name": "Python 3 (ipykernel)",
   "language": "python",
   "name": "python3"
  },
  "language_info": {
   "codemirror_mode": {
    "name": "ipython",
    "version": 3
   },
   "file_extension": ".py",
   "mimetype": "text/x-python",
   "name": "python",
   "nbconvert_exporter": "python",
   "pygments_lexer": "ipython3",
   "version": "3.9.7"
  }
 },
 "nbformat": 4,
 "nbformat_minor": 5
}
