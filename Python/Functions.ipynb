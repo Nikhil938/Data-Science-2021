{
 "cells": [
  {
   "cell_type": "code",
   "execution_count": 1,
   "id": "63836a9a",
   "metadata": {},
   "outputs": [],
   "source": [
    "sequence = {'p', 'a', 's', 's'}\n",
    "for val in sequence:\n",
    "    pass"
   ]
  },
  {
   "cell_type": "code",
   "execution_count": 3,
   "id": "4de5c4d4",
   "metadata": {},
   "outputs": [
    {
     "name": "stdout",
     "output_type": "stream",
     "text": [
      "Hello, Nik. Good morning!\n"
     ]
    }
   ],
   "source": [
    "def greet(name):\n",
    "    \"\"\"\n",
    "    This function greets to\n",
    "    the person passed in as\n",
    "    a parameter\n",
    "    \"\"\"\n",
    "    print(\"Hello, \" + name + \". Good morning!\")\n",
    "\n",
    "greet('Nik')"
   ]
  },
  {
   "cell_type": "code",
   "execution_count": null,
   "id": "b7d5702f",
   "metadata": {},
   "outputs": [],
   "source": [
    "//The return statement\n",
    "//The return statement is used to exit a function and go back to the place from where it was called."
   ]
  },
  {
   "cell_type": "code",
   "execution_count": 6,
   "id": "fb59a23c",
   "metadata": {},
   "outputs": [
    {
     "name": "stdout",
     "output_type": "stream",
     "text": [
      "Enter the number:\n",
      "-3434\n",
      "Absolute value of no is: 3434\n"
     ]
    }
   ],
   "source": [
    "def absoluteval(num):\n",
    "    if num>=0:\n",
    "        return num\n",
    "    else:\n",
    "        return -num\n",
    "    \n",
    "\n",
    "print(\"Enter the number:\")\n",
    "n=int(input())\n",
    "print(\"Absolute value of no is:\",absoluteval(n))"
   ]
  },
  {
   "cell_type": "code",
   "execution_count": 10,
   "id": "6e739dc4",
   "metadata": {},
   "outputs": [
    {
     "name": "stdout",
     "output_type": "stream",
     "text": [
      "Value inside function: 10\n",
      "Value outside function: 20\n"
     ]
    }
   ],
   "source": [
    "\"\"\"Scope of the Function \"\"\"\n",
    "\n",
    "def my_func():\n",
    "\tx = 10\n",
    "\tprint(\"Value inside function:\",x)\n",
    "\n",
    "x = 20\n",
    "my_func()\n",
    "print(\"Value outside function:\",x)"
   ]
  },
  {
   "cell_type": "code",
   "execution_count": null,
   "id": "81ab9fe2",
   "metadata": {},
   "outputs": [],
   "source": []
  },
  {
   "cell_type": "code",
   "execution_count": null,
   "id": "0f10feef",
   "metadata": {},
   "outputs": [],
   "source": []
  },
  {
   "cell_type": "code",
   "execution_count": null,
   "id": "04011c9e",
   "metadata": {},
   "outputs": [],
   "source": []
  },
  {
   "cell_type": "code",
   "execution_count": null,
   "id": "002d38a7",
   "metadata": {},
   "outputs": [],
   "source": []
  },
  {
   "cell_type": "code",
   "execution_count": null,
   "id": "1d763145",
   "metadata": {},
   "outputs": [],
   "source": []
  },
  {
   "cell_type": "code",
   "execution_count": null,
   "id": "469c2cd3",
   "metadata": {},
   "outputs": [],
   "source": []
  }
 ],
 "metadata": {
  "kernelspec": {
   "display_name": "Python 3 (ipykernel)",
   "language": "python",
   "name": "python3"
  },
  "language_info": {
   "codemirror_mode": {
    "name": "ipython",
    "version": 3
   },
   "file_extension": ".py",
   "mimetype": "text/x-python",
   "name": "python",
   "nbconvert_exporter": "python",
   "pygments_lexer": "ipython3",
   "version": "3.9.7"
  }
 },
 "nbformat": 4,
 "nbformat_minor": 5
}
